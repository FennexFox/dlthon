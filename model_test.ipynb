{
 "cells": [
  {
   "cell_type": "markdown",
   "metadata": {},
   "source": [
    "# DLthon - 길찾은 오리들\n",
    "## Base Settings"
   ]
  },
  {
   "cell_type": "code",
   "execution_count": 1,
   "metadata": {},
   "outputs": [
    {
     "name": "stderr",
     "output_type": "stream",
     "text": [
      "2025-01-20 11:09:39.963455: I tensorflow/core/util/port.cc:153] oneDNN custom operations are on. You may see slightly different numerical results due to floating-point round-off errors from different computation orders. To turn them off, set the environment variable `TF_ENABLE_ONEDNN_OPTS=0`.\n",
      "2025-01-20 11:09:39.972273: E external/local_xla/xla/stream_executor/cuda/cuda_fft.cc:477] Unable to register cuFFT factory: Attempting to register factory for plugin cuFFT when one has already been registered\n",
      "WARNING: All log messages before absl::InitializeLog() is called are written to STDERR\n",
      "E0000 00:00:1737338979.982996  203621 cuda_dnn.cc:8310] Unable to register cuDNN factory: Attempting to register factory for plugin cuDNN when one has already been registered\n",
      "E0000 00:00:1737338979.985595  203621 cuda_blas.cc:1418] Unable to register cuBLAS factory: Attempting to register factory for plugin cuBLAS when one has already been registered\n",
      "2025-01-20 11:09:39.994509: I tensorflow/core/platform/cpu_feature_guard.cc:210] This TensorFlow binary is optimized to use available CPU instructions in performance-critical operations.\n",
      "To enable the following instructions: AVX2 AVX_VNNI FMA, in other operations, rebuild TensorFlow with the appropriate compiler flags.\n"
     ]
    },
    {
     "ename": "ModuleNotFoundError",
     "evalue": "No module named 'models_base.resnet'",
     "output_type": "error",
     "traceback": [
      "\u001b[0;31m---------------------------------------------------------------------------\u001b[0m",
      "\u001b[0;31mModuleNotFoundError\u001b[0m                       Traceback (most recent call last)",
      "Cell \u001b[0;32mIn[1], line 8\u001b[0m\n\u001b[1;32m      3\u001b[0m \u001b[38;5;28;01mfrom\u001b[39;00m \u001b[38;5;21;01mkeras\u001b[39;00m \u001b[38;5;28;01mimport\u001b[39;00m layers\n\u001b[1;32m      5\u001b[0m \u001b[38;5;66;03m# keras.mixed_precision.set_global_policy('mixed_float16')\u001b[39;00m\n\u001b[1;32m      6\u001b[0m \n\u001b[1;32m      7\u001b[0m \u001b[38;5;66;03m# importing the modules\u001b[39;00m\n\u001b[0;32m----> 8\u001b[0m \u001b[38;5;28;01mimport\u001b[39;00m \u001b[38;5;21;01mmodels_base\u001b[39;00m\u001b[38;5;241m,\u001b[39m \u001b[38;5;21;01mmodels_top\u001b[39;00m\u001b[38;5;241m,\u001b[39m \u001b[38;5;21;01mutils\u001b[39;00m\n",
      "File \u001b[0;32m~/keras/dlthon/models_base/__init__.py:4\u001b[0m\n\u001b[1;32m      1\u001b[0m \u001b[38;5;66;03m# __init__.pyh 파일로 프로젝트 관리하는 법: https://youtu.be/8FceAhTVGeo\u001b[39;00m\n\u001b[1;32m      3\u001b[0m \u001b[38;5;28;01mfrom\u001b[39;00m \u001b[38;5;21;01m.\u001b[39;00m\u001b[38;5;21;01mefficientnet\u001b[39;00m \u001b[38;5;28;01mimport\u001b[39;00m \u001b[38;5;241m*\u001b[39m\n\u001b[0;32m----> 4\u001b[0m \u001b[38;5;28;01mfrom\u001b[39;00m \u001b[38;5;21;01m.\u001b[39;00m\u001b[38;5;21;01mresnet\u001b[39;00m \u001b[38;5;28;01mimport\u001b[39;00m \u001b[38;5;241m*\u001b[39m\n\u001b[1;32m      5\u001b[0m \u001b[38;5;28;01mfrom\u001b[39;00m \u001b[38;5;21;01m.\u001b[39;00m\u001b[38;5;21;01mmobilenet\u001b[39;00m \u001b[38;5;28;01mimport\u001b[39;00m \u001b[38;5;241m*\u001b[39m\n",
      "\u001b[0;31mModuleNotFoundError\u001b[0m: No module named 'models_base.resnet'"
     ]
    }
   ],
   "source": [
    "# importing the libraries\n",
    "import keras, tensorflow as tf\n",
    "from keras import layers\n",
    "\n",
    "# keras.mixed_precision.set_global_policy('mixed_float16')\n",
    "\n",
    "# importing the modules\n",
    "import models_base, models_top, utils"
   ]
  },
  {
   "cell_type": "code",
   "execution_count": null,
   "metadata": {},
   "outputs": [],
   "source": [
    "# loading the dataset\n",
    "train_dataset, val_dataset, test_dataset = utils.load_datasets(\"data_no_aug\")"
   ]
  },
  {
   "cell_type": "markdown",
   "metadata": {},
   "source": [
    "## Basemodel\n",
    "\n",
    "여기에 ResNet50 결과 입력\n",
    "\n",
    "## EfficientNetV2L + simple2\n",
    "### Designing the Model"
   ]
  },
  {
   "cell_type": "code",
   "execution_count": 3,
   "metadata": {},
   "outputs": [],
   "source": [
    "# designing the model\n",
    "\n",
    "def eV2L_simple2(): # this can be adjusted to be hyper-tunable\n",
    "    inputs = keras.Input(shape=(224, 224, 3))\n",
    "    x = utils.image_preprocessing_v1()(inputs)\n",
    "    x = models_base.EV2L((224, 224, 3))(inputs, training=False)\n",
    "    x = models_top.simple2()(x)\n",
    "    outputs = layers.Dense(6, activation='softmax')(x)\n",
    "\n",
    "    model = keras.Model(inputs, outputs)\n",
    "    \n",
    "    model.compile(loss='categorical_crossentropy',\n",
    "                   optimizer='rmsprop',\n",
    "                   metrics=['accuracy'])\n",
    "    \n",
    "    return model"
   ]
  },
  {
   "cell_type": "code",
   "execution_count": null,
   "metadata": {},
   "outputs": [],
   "source": [
    "eV2L_simple2_history = eV2L_simple2().fit(\n",
    "    train_dataset,\n",
    "    validation_data=val_dataset,\n",
    "    epochs=200,\n",
    "    callbacks=[\n",
    "        utils.callback_savemodel('eV2L_simple2.keras'),\n",
    "        utils.callback_earlystop(30)\n",
    "    ],\n",
    ")"
   ]
  },
  {
   "cell_type": "code",
   "execution_count": null,
   "metadata": {},
   "outputs": [],
   "source": [
    "utils.plot_history(eV2L_simple2_history)"
   ]
  },
  {
   "cell_type": "code",
   "execution_count": null,
   "metadata": {},
   "outputs": [],
   "source": [
    "eV2L_simple2_history_best = keras.models.load_model('eV2L_simple2.keras')\n",
    "test_loss, test_acc = eV2L_simple2_history_best.evaluate(test_dataset)\n",
    "print(f\"Test accuracy: {test_acc:.2f}%, Test loss: {test_loss:.2f}\")"
   ]
  },
  {
   "cell_type": "markdown",
   "metadata": {},
   "source": [
    "## Second Trial: MobileNetV2 + Top1"
   ]
  },
  {
   "cell_type": "code",
   "execution_count": null,
   "metadata": {},
   "outputs": [],
   "source": [
    "def mV2_simple1():\n",
    "    inputs = keras.Input(shape=(224, 224, 3))\n",
    "    x = utils.image_preprocessing_v1()(inputs)\n",
    "    x = models_base.MV2()(inputs, training=False)\n",
    "    x = models_top.simple1()(x)\n",
    "    outputs = layers.Dense(6, activation='softmax')(x)\n",
    "\n",
    "    model = keras.Model(inputs, outputs)\n",
    "\n",
    "    model.compile(loss='categorical_crossentropy',\n",
    "                   optimizer='rmsprop',\n",
    "                   metrics=['accuracy'])\n",
    "\n",
    "    return model\n",
    "\n",
    "mV2_simple1_history = mV2_simple1().fit(\n",
    "    train_dataset,\n",
    "    validation_data=val_dataset,\n",
    "    epochs=200,\n",
    "    callbacks=[\n",
    "        utils.callback_savemodel('mV2_simple1.keras'),\n",
    "        utils.callback_earlystop(80)\n",
    "    ],\n",
    ")"
   ]
  },
  {
   "cell_type": "code",
   "execution_count": null,
   "metadata": {},
   "outputs": [],
   "source": [
    "utils.plot_history(mV2_simple1_history)"
   ]
  },
  {
   "cell_type": "code",
   "execution_count": null,
   "metadata": {},
   "outputs": [],
   "source": [
    "mV2_simple1_best = keras.models.load_model('mV2_simple1.keras')\n",
    "test_loss, test_acc = mV2_simple1_best.evaluate(test_dataset)\n",
    "print(f\"Test accuracy: {test_acc:.2f}%, Test loss: {test_loss:.2f}\")"
   ]
  }
 ],
 "metadata": {
  "kernelspec": {
   "display_name": "keras",
   "language": "python",
   "name": "python3"
  },
  "language_info": {
   "codemirror_mode": {
    "name": "ipython",
    "version": 3
   },
   "file_extension": ".py",
   "mimetype": "text/x-python",
   "name": "python",
   "nbconvert_exporter": "python",
   "pygments_lexer": "ipython3",
   "version": "3.12.3"
  }
 },
 "nbformat": 4,
 "nbformat_minor": 2
}
